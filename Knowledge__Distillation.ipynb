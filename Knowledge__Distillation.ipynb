{
  "nbformat": 4,
  "nbformat_minor": 0,
  "metadata": {
    "colab": {
      "provenance": [],
      "authorship_tag": "ABX9TyOuwlO54tMDrQkCloYkVoxc",
      "include_colab_link": true
    },
    "kernelspec": {
      "name": "python3",
      "display_name": "Python 3"
    },
    "language_info": {
      "name": "python"
    }
  },
  "cells": [
    {
      "cell_type": "markdown",
      "metadata": {
        "id": "view-in-github",
        "colab_type": "text"
      },
      "source": [
        "<a href=\"https://colab.research.google.com/github/saniya1027108/Knowledge-Distillation/blob/main/Knowledge__Distillation.ipynb\" target=\"_parent\"><img src=\"https://colab.research.google.com/assets/colab-badge.svg\" alt=\"Open In Colab\"/></a>"
      ]
    },
    {
      "cell_type": "code",
      "execution_count": 8,
      "metadata": {
        "id": "vqn1RsvCyRlf"
      },
      "outputs": [],
      "source": [
        "import tensorflow as tf\n",
        "import numpy as np\n",
        "from tensorflow import keras"
      ]
    },
    {
      "cell_type": "markdown",
      "source": [
        "We are using the Cifar10 daaset to imply Knowledge Distillation Technique."
      ],
      "metadata": {
        "id": "tvUnNhQHIuJb"
      }
    },
    {
      "cell_type": "code",
      "source": [
        "# Prepare the train and test dataset.\n",
        "batch_size = 64\n",
        "(x_train, y_train), (x_test, y_test) = tf.keras.datasets.cifar10.load_data()\n",
        "# Normalize data\n",
        "x_train = x_train.astype(\"float32\") / 255.0\n",
        "x_train = np.reshape(x_train, (-1, 32, 32, 3))\n",
        "x_test = x_test.astype(\"float32\") / 255.0\n",
        "x_test = np.reshape(x_test, (-1, 32, 32,3))\n",
        "print(\"Input Train data  \",x_train.shape)\n",
        "print(\"Train data Labels \",y_train.shape)\n",
        "print(\"Input Test data   \",x_test.shape)\n",
        "print(\"Test data Labels  \",y_test.shape)"
      ],
      "metadata": {
        "colab": {
          "base_uri": "https://localhost:8080/"
        },
        "id": "T34464RXy5kX",
        "outputId": "b1a2ced7-4d85-400e-a8b3-f30f35c25133"
      },
      "execution_count": 2,
      "outputs": [
        {
          "output_type": "stream",
          "name": "stdout",
          "text": [
            "Downloading data from https://www.cs.toronto.edu/~kriz/cifar-10-python.tar.gz\n",
            "170500096/170498071 [==============================] - 4s 0us/step\n",
            "170508288/170498071 [==============================] - 4s 0us/step\n",
            "Input Train data   (50000, 32, 32, 3)\n",
            "Train data Labels  (50000, 1)\n",
            "Input Test data    (10000, 32, 32, 3)\n",
            "Test data Labels   (10000, 1)\n"
          ]
        }
      ]
    },
    {
      "cell_type": "markdown",
      "source": [
        "**TEACHER MODEL**"
      ],
      "metadata": {
        "id": "bYENfSaQI1_B"
      }
    },
    {
      "cell_type": "code",
      "source": [
        "teacher = tf.keras.Sequential(\n",
        "    [\n",
        "        tf.keras.Input(shape=(32, 32, 3)),\n",
        "        \n",
        "        tf.keras.layers.Conv2D(256, (3, 3), strides=(2, 2), padding=\"same\"),\n",
        "        tf.keras.layers.LeakyReLU(alpha=0.2),\n",
        "        tf.keras.layers.MaxPooling2D(pool_size=(2, 2), strides=(1, 1), padding=\"same\"),\n",
        "        tf.keras.layers.Conv2D(512, (3, 3), strides=(2, 2), padding=\"same\"),\n",
        "        tf.keras.layers.LeakyReLU(alpha=0.2),\n",
        "        tf.keras.layers.MaxPooling2D(pool_size=(2, 2), strides=(1, 1), padding=\"same\"),\n",
        "        tf.keras.layers.Flatten(),\n",
        "        tf.keras.layers.Dense(10),\n",
        "    ],\n",
        "    name=\"teacher\",\n",
        ")\n",
        "teacher.summary()"
      ],
      "metadata": {
        "colab": {
          "base_uri": "https://localhost:8080/"
        },
        "id": "GCYwUzm0zElb",
        "outputId": "1f1ca689-cb48-4164-997e-56ebeffe050c"
      },
      "execution_count": 3,
      "outputs": [
        {
          "output_type": "stream",
          "name": "stdout",
          "text": [
            "Model: \"teacher\"\n",
            "_________________________________________________________________\n",
            " Layer (type)                Output Shape              Param #   \n",
            "=================================================================\n",
            " conv2d (Conv2D)             (None, 16, 16, 256)       7168      \n",
            "                                                                 \n",
            " leaky_re_lu (LeakyReLU)     (None, 16, 16, 256)       0         \n",
            "                                                                 \n",
            " max_pooling2d (MaxPooling2D  (None, 16, 16, 256)      0         \n",
            " )                                                               \n",
            "                                                                 \n",
            " conv2d_1 (Conv2D)           (None, 8, 8, 512)         1180160   \n",
            "                                                                 \n",
            " leaky_re_lu_1 (LeakyReLU)   (None, 8, 8, 512)         0         \n",
            "                                                                 \n",
            " max_pooling2d_1 (MaxPooling  (None, 8, 8, 512)        0         \n",
            " 2D)                                                             \n",
            "                                                                 \n",
            " flatten (Flatten)           (None, 32768)             0         \n",
            "                                                                 \n",
            " dense (Dense)               (None, 10)                327690    \n",
            "                                                                 \n",
            "=================================================================\n",
            "Total params: 1,515,018\n",
            "Trainable params: 1,515,018\n",
            "Non-trainable params: 0\n",
            "_________________________________________________________________\n"
          ]
        }
      ]
    },
    {
      "cell_type": "markdown",
      "source": [
        "**STUDENT MODEL**"
      ],
      "metadata": {
        "id": "CJPwZxKrI__G"
      }
    },
    {
      "cell_type": "code",
      "source": [
        "# Create the student\n",
        "student = tf.keras.Sequential(\n",
        "    [\n",
        "        tf.keras.Input(shape=(32, 32, 3)),\n",
        "        tf.keras.layers.Conv2D(64, (3, 3), strides=(2, 2), padding=\"same\"),\n",
        "        tf.keras.layers.LeakyReLU(alpha=0.2),\n",
        "        tf.keras.layers.MaxPooling2D(pool_size=(2, 2), strides=(1, 1), padding=\"same\"),\n",
        "        tf.keras.layers.Conv2D(256, (3, 3), strides=(2, 2), padding=\"same\"),\n",
        "        tf.keras.layers.LeakyReLU(alpha=0.2),\n",
        "        tf.keras.layers.MaxPooling2D(pool_size=(2, 2), strides=(1, 1), padding=\"same\"),\n",
        "        tf.keras.layers.Flatten(),\n",
        "        tf.keras.layers.Dense(10),\n",
        "    ],\n",
        "    name=\"student\",\n",
        ")\n",
        "student.summary()"
      ],
      "metadata": {
        "colab": {
          "base_uri": "https://localhost:8080/"
        },
        "id": "OzfCKzS4zH_C",
        "outputId": "02489021-fb68-4602-fd12-bf0977cf8f45"
      },
      "execution_count": 4,
      "outputs": [
        {
          "output_type": "stream",
          "name": "stdout",
          "text": [
            "Model: \"student\"\n",
            "_________________________________________________________________\n",
            " Layer (type)                Output Shape              Param #   \n",
            "=================================================================\n",
            " conv2d_2 (Conv2D)           (None, 16, 16, 64)        1792      \n",
            "                                                                 \n",
            " leaky_re_lu_2 (LeakyReLU)   (None, 16, 16, 64)        0         \n",
            "                                                                 \n",
            " max_pooling2d_2 (MaxPooling  (None, 16, 16, 64)       0         \n",
            " 2D)                                                             \n",
            "                                                                 \n",
            " conv2d_3 (Conv2D)           (None, 8, 8, 256)         147712    \n",
            "                                                                 \n",
            " leaky_re_lu_3 (LeakyReLU)   (None, 8, 8, 256)         0         \n",
            "                                                                 \n",
            " max_pooling2d_3 (MaxPooling  (None, 8, 8, 256)        0         \n",
            " 2D)                                                             \n",
            "                                                                 \n",
            " flatten_1 (Flatten)         (None, 16384)             0         \n",
            "                                                                 \n",
            " dense_1 (Dense)             (None, 10)                163850    \n",
            "                                                                 \n",
            "=================================================================\n",
            "Total params: 313,354\n",
            "Trainable params: 313,354\n",
            "Non-trainable params: 0\n",
            "_________________________________________________________________\n"
          ]
        }
      ]
    },
    {
      "cell_type": "markdown",
      "source": [
        "Techer model has 1.51M parameters \n",
        "\n",
        "Student Model has 313K parameters"
      ],
      "metadata": {
        "id": "6IEEPiSCJFPc"
      }
    },
    {
      "cell_type": "code",
      "source": [
        "teacher.compile(\n",
        "    optimizer=tf.keras.optimizers.Adam(),    loss=tf.keras.losses.SparseCategoricalCrossentropy(from_logits=True),metrics=[tf.keras.metrics.SparseCategoricalAccuracy()],\n",
        ")\n",
        "# Train and evaluate teacher on data.\n",
        "teacher.fit(x_train, y_train, epochs=5)\n",
        "teacher.evaluate(x_test, y_test)"
      ],
      "metadata": {
        "colab": {
          "base_uri": "https://localhost:8080/"
        },
        "id": "mSca1wPpzS45",
        "outputId": "23b13cfd-f86b-49c7-bdc2-efaccbcfdb73"
      },
      "execution_count": 5,
      "outputs": [
        {
          "output_type": "stream",
          "name": "stdout",
          "text": [
            "Epoch 1/5\n",
            "1563/1563 [==============================] - 604s 386ms/step - loss: 1.3376 - sparse_categorical_accuracy: 0.5310\n",
            "Epoch 2/5\n",
            "1563/1563 [==============================] - 598s 382ms/step - loss: 1.0206 - sparse_categorical_accuracy: 0.6507\n",
            "Epoch 3/5\n",
            "1563/1563 [==============================] - 593s 380ms/step - loss: 0.9051 - sparse_categorical_accuracy: 0.6952\n",
            "Epoch 4/5\n",
            "1563/1563 [==============================] - 601s 384ms/step - loss: 0.7981 - sparse_categorical_accuracy: 0.7317\n",
            "Epoch 5/5\n",
            "1563/1563 [==============================] - 607s 388ms/step - loss: 0.6909 - sparse_categorical_accuracy: 0.7633\n",
            "313/313 [==============================] - 29s 92ms/step - loss: 1.0497 - sparse_categorical_accuracy: 0.6788\n"
          ]
        },
        {
          "output_type": "execute_result",
          "data": {
            "text/plain": [
              "[1.0497170686721802, 0.6787999868392944]"
            ]
          },
          "metadata": {},
          "execution_count": 5
        }
      ]
    },
    {
      "cell_type": "markdown",
      "source": [
        "**Distill the Knowledge from the Teacher Model to the Student Model**\n",
        "\n",
        "Create a Distiller class to distill the knowledge using the student and distillation loss."
      ],
      "metadata": {
        "id": "BW3Av8sFJToT"
      }
    },
    {
      "cell_type": "code",
      "source": [
        "class Distiller(keras.Model):\n",
        "    def __init__(self, student, teacher):\n",
        "        super(Distiller, self).__init__()\n",
        "        self.teacher = teacher\n",
        "        self.student = student\n",
        "\n",
        "    def compile(\n",
        "        self,\n",
        "        optimizer,\n",
        "        metrics,\n",
        "        student_loss_fn,\n",
        "        distillation_loss_fn,\n",
        "        alpha=0.1,\n",
        "        temperature=3,\n",
        "    ):\n",
        "\n",
        "        super(Distiller, self).compile(optimizer=optimizer, metrics=metrics)\n",
        "        self.student_loss_fn=student_loss_fn\n",
        "        self.distillation_loss_fn= distillation_loss_fn\n",
        "        self.temperature= temperature\n",
        "        self.alpha= alpha\n",
        "        \n",
        "    def train_step(self, data):\n",
        "        x,y=data\n",
        "        \n",
        "        # Forward pass of teacher\n",
        "        teacher_prediction=self.teacher(x, training=False)\n",
        "        print(\"Tecaher prediction   ...\", teacher_prediction)\n",
        "        with tf.GradientTape() as tape:\n",
        "            # Forward pass of student\n",
        "            student_predcition= self.student(x, training=True)\n",
        "            # Compute losses\n",
        "            student_loss= self.student_loss_fn(y, student_predcition)\n",
        "            \n",
        "            distillation_loss=self.distillation_loss_fn(\n",
        "            tf.nn.softmax(teacher_prediction/self.temperature, axis=1),\n",
        "            tf.nn.softmax(student_predcition/self.temperature, axis=1)\n",
        "            )\n",
        "            loss= self.alpha* student_loss + (1-self.alpha)* distillation_loss\n",
        "            print(\"Loss in distiller :\",loss)\n",
        "            # Compute gradients\n",
        "            trainable_vars= self.student.trainable_variables\n",
        "            gradients=tape.gradient(loss, trainable_vars)\n",
        "            gradients = [gradient * (self.temperature ** 2) for gradient in gradients]\n",
        "            # Update weights\n",
        "            self.optimizer.apply_gradients(zip(gradients, trainable_vars))\n",
        "            \n",
        "            # Update the metrics configured in `compile()`\n",
        "            self.compiled_metrics.update_state(y, student_predcition)\n",
        "            \n",
        "            # Return a dict of performance\n",
        "            results={ m.name: m.result()  for m in self.metrics}\n",
        "            results.update({\"student_loss\": student_loss, \"distillation_loss\": distillation_loss})\n",
        "            print(\"Train...\", results)\n",
        "            return results\n",
        "        \n",
        "    def test_step(self, data):\n",
        "        # Unpack the data\n",
        "        x, y = data\n",
        "        \n",
        "        ## Compute predictions\n",
        "        y_prediction= self.student(x, training=False)\n",
        "        \n",
        "        # calculate the loss\n",
        "        student_loss= self.student_loss_fn(y, y_prediction)\n",
        "        \n",
        "        # Update the metrics.\n",
        "        self.compiled_metrics.update_state(y, y_prediction)\n",
        "        \n",
        "        # Return a dict of performance\n",
        "        results ={m.name: m.result() for m in self.metrics}\n",
        "        results.update({\"student_loss\": student_loss})\n",
        "        print(\"Test...\", results)\n",
        "        return results\n",
        "# Initialize  distiller\n",
        "distiller= Distiller(student=student, teacher=teacher)"
      ],
      "metadata": {
        "id": "xe0owDrjzaSN"
      },
      "execution_count": 9,
      "outputs": []
    },
    {
      "cell_type": "markdown",
      "source": [
        "Compiling the distiller"
      ],
      "metadata": {
        "id": "-EWd3n1hJZGQ"
      }
    },
    {
      "cell_type": "code",
      "source": [
        "#compile distiller\n",
        "distiller.compile(optimizer=keras.optimizers.Adam(),\n",
        "                 metrics=[keras.metrics.SparseCategoricalAccuracy()],\n",
        "                 student_loss_fn=keras.losses.SparseCategoricalCrossentropy(from_logits=True),\n",
        "                 distillation_loss_fn=keras.losses.KLDivergence(),\n",
        "                 alpha=0.3,\n",
        "                 temperature=7)"
      ],
      "metadata": {
        "id": "lRze-pb3zylH"
      },
      "execution_count": 10,
      "outputs": []
    },
    {
      "cell_type": "markdown",
      "source": [
        "Distill the knowledge from the Teacher model to Student and Evaluate the distiller"
      ],
      "metadata": {
        "id": "gUb9qaxzJenS"
      }
    },
    {
      "cell_type": "code",
      "source": [
        "# Distill teacher to student\n",
        "distiller.fit(x_train, y_train, epochs=5)\n",
        "# Evaluate student on test dataset\n",
        "distiller.evaluate(x_test, y_test)"
      ],
      "metadata": {
        "colab": {
          "base_uri": "https://localhost:8080/"
        },
        "id": "2gc6w8B3z0t3",
        "outputId": "bf09bc5a-ec2f-4f6e-f3f5-ffcfcab1d8c5"
      },
      "execution_count": 11,
      "outputs": [
        {
          "output_type": "stream",
          "name": "stdout",
          "text": [
            "Epoch 1/5\n",
            "Tecaher prediction   ... Tensor(\"teacher/dense/BiasAdd:0\", shape=(None, 10), dtype=float32)\n",
            "Loss in distiller : Tensor(\"add:0\", shape=(), dtype=float32)\n",
            "Train... {'sparse_categorical_accuracy': <tf.Tensor 'Identity:0' shape=() dtype=float32>, 'student_loss': <tf.Tensor 'sparse_categorical_crossentropy/weighted_loss/value:0' shape=() dtype=float32>, 'distillation_loss': <tf.Tensor 'kl_divergence/weighted_loss/value:0' shape=() dtype=float32>}\n",
            "Tecaher prediction   ... Tensor(\"teacher/dense/BiasAdd:0\", shape=(None, 10), dtype=float32)\n",
            "Loss in distiller : Tensor(\"add:0\", shape=(), dtype=float32)\n",
            "Train... {'sparse_categorical_accuracy': <tf.Tensor 'Identity:0' shape=() dtype=float32>, 'student_loss': <tf.Tensor 'sparse_categorical_crossentropy/weighted_loss/value:0' shape=() dtype=float32>, 'distillation_loss': <tf.Tensor 'kl_divergence/weighted_loss/value:0' shape=() dtype=float32>}\n",
            "1563/1563 [==============================] - 257s 164ms/step - sparse_categorical_accuracy: 0.5427 - student_loss: 1.3019 - distillation_loss: 0.0842\n",
            "Epoch 2/5\n",
            "1563/1563 [==============================] - 253s 162ms/step - sparse_categorical_accuracy: 0.6729 - student_loss: 0.9593 - distillation_loss: 0.0449\n",
            "Epoch 3/5\n",
            "1563/1563 [==============================] - 254s 162ms/step - sparse_categorical_accuracy: 0.7229 - student_loss: 0.8169 - distillation_loss: 0.0348\n",
            "Epoch 4/5\n",
            "1563/1563 [==============================] - 257s 164ms/step - sparse_categorical_accuracy: 0.7534 - student_loss: 0.7207 - distillation_loss: 0.0307\n",
            "Epoch 5/5\n",
            "1563/1563 [==============================] - 254s 162ms/step - sparse_categorical_accuracy: 0.7855 - student_loss: 0.6275 - distillation_loss: 0.0285\n",
            "Test... {'sparse_categorical_accuracy': <tf.Tensor 'Identity:0' shape=() dtype=float32>, 'student_loss': <tf.Tensor 'sparse_categorical_crossentropy/weighted_loss/value:0' shape=() dtype=float32>}\n",
            "313/313 [==============================] - 6s 18ms/step - sparse_categorical_accuracy: 0.7267 - student_loss: 0.8614\n"
          ]
        },
        {
          "output_type": "execute_result",
          "data": {
            "text/plain": [
              "[0.7267000079154968, 0.9821649789810181]"
            ]
          },
          "metadata": {},
          "execution_count": 11
        }
      ]
    },
    {
      "cell_type": "markdown",
      "source": [
        "We can see that the teacher model takes **604s** per epoch to train and gives an accuracy of **67.88%**\n",
        "\n",
        "Whereas the Student distilled model takes 257s per epoch to train and gives an accuracy of **72.67%**\n",
        "\n",
        "\n",
        "\n"
      ],
      "metadata": {
        "id": "eP0HfzFNJh9L"
      }
    }
  ]
}